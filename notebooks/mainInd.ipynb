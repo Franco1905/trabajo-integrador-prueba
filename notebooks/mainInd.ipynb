{
 "cells": [
  {
   "cell_type": "markdown",
   "id": "b2e95bf6",
   "metadata": {},
   "source": [
    "Inicio del sistema"
   ]
  },
  {
   "cell_type": "code",
   "execution_count": 6,
   "id": "e9f586d9",
   "metadata": {},
   "outputs": [],
   "source": [
    "import os\n",
    "import sys\n",
    "# libreria para manejar archivos csv\n",
    "import csv\n",
    "# le indico que lea los archivos que estan:\n",
    "# una carpeta mas \"arriba\", y en \"files\"\n",
    "# sirve para saber en que carpeta estoy parado y no buscar desde el C\n",
    "sys.path.append(os.path.abspath(\"../files\")) \n",
    "sys.path.append(os.path.abspath(\"../src\"))\n",
    "\n",
    "#declaro el indice del campo pondera, el cual sera necesario para practicamente todos las funciones\n",
    "PONDERA_INDEX = 9"
   ]
  },
  {
   "cell_type": "code",
   "execution_count": null,
   "id": "815af6f8",
   "metadata": {},
   "outputs": [],
   "source": [
    "#asigno la ruta del archivo a una variable\n",
    "path_file = '../files/usu_individual_T324.txt'"
   ]
  },
  {
   "cell_type": "markdown",
   "id": "bdb233ee",
   "metadata": {},
   "source": [
    "Cuantos hombres y mujeres se muestran en el archivo del tercer trimestre de 2024?"
   ]
  },
  {
   "cell_type": "code",
   "execution_count": 4,
   "id": "28493cc7",
   "metadata": {},
   "outputs": [
    {
     "name": "stdout",
     "output_type": "stream",
     "text": [
      "Total de mujeres: 15248344, Total de varones 14471801\n"
     ]
    }
   ],
   "source": [
    "from funciones import cantMujHom\n",
    "\n",
    "# defino el indice de CHO4\n",
    "CH04_INDEX = 11 # 1 = varon, 2 = mujer\n",
    "\n",
    "# abro el archivo en modo lectura\n",
    "# y lo guardo en una variable\n",
    "# el modo 'r' es para leer el archivo\n",
    "# podria pasar directamente el string con la ruta completa, pero no es practico\n",
    "# y si cambio de carpeta no funcionaria\n",
    "with open(path_file, encoding='utf-8') as archivo_csv:\n",
    "    # le digo a la funcion csv que se encargue del archivo\n",
    "    # para trabajarlo de manera mas amena\n",
    "    # por defecto los csv se separan por coma, pero como el archivo a trabajar se separa por punto y coma, debemos aclararselo\n",
    "    reader = csv.reader(archivo_csv, delimiter=';')\n",
    "    contador_f,contador_m = cantMujHom(reader, CH04_INDEX, PONDERA_INDEX)\n",
    "\n",
    "    print(f'Total de mujeres: {contador_f}, Total de varones {contador_m}' )"
   ]
  },
  {
   "cell_type": "markdown",
   "id": "16c64c08",
   "metadata": {},
   "source": [
    "¿Cuantos mayores de edad completaron sus estudios secundarios?"
   ]
  },
  {
   "cell_type": "code",
   "execution_count": 5,
   "id": "9aae1036",
   "metadata": {},
   "outputs": [
    {
     "name": "stdout",
     "output_type": "stream",
     "text": [
      "La cantidad de mayores de edad que termino el secundario en el tercer trimestre de 2024 es de: 22471\n"
     ]
    }
   ],
   "source": [
    "from funciones import termSec \n",
    "\n",
    "NIVEL_ED_INDEX = 26\n",
    "CH06_INDEX = 13\n",
    "\n",
    "with open(path_file,encoding='utf-8') as archivo_csv:\n",
    "\n",
    "    reader = csv.reader(archivo_csv, delimiter=';') \n",
    "\n",
    "    cantSecCom = termSec(reader,NIVEL_ED_INDEX,CH06_INDEX,PONDERA_INDEX)\n",
    "\n",
    "print(f'La cantidad de mayores de edad que termino el secundario en el tercer trimestre de 2024 es de: {cantSecCom}')\n"
   ]
  }
 ],
 "metadata": {
  "kernelspec": {
   "display_name": "Python 3",
   "language": "python",
   "name": "python3"
  },
  "language_info": {
   "codemirror_mode": {
    "name": "ipython",
    "version": 3
   },
   "file_extension": ".py",
   "mimetype": "text/x-python",
   "name": "python",
   "nbconvert_exporter": "python",
   "pygments_lexer": "ipython3",
   "version": "3.12.9"
  }
 },
 "nbformat": 4,
 "nbformat_minor": 5
}
