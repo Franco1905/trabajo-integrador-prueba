{
 "cells": [
  {
   "cell_type": "markdown",
   "id": "b2e95bf6",
   "metadata": {},
   "source": [
    "Inicio del sistema"
   ]
  },
  {
   "cell_type": "code",
   "execution_count": 1,
   "id": "e9f586d9",
   "metadata": {},
   "outputs": [],
   "source": [
    "import os\n",
    "import sys\n",
    "# libreria para manejar archivos csv\n",
    "import csv\n",
    "# le indico que lea los archivos que estan:\n",
    "# una carpeta mas \"arriba\", y en \"files\"\n",
    "# sirve para saber en que carpeta estoy parado y no buscar desde el C\n",
    "sys.path.append(os.path.abspath(\"../files\")) \n",
    "sys.path.append(os.path.abspath(\"../src\"))\n",
    "\n",
    "#declaro el indice del campo pondera, el cual sera necesario para practicamente todos las funciones\n",
    "PONDERA_INDEX = 9"
   ]
  },
  {
   "cell_type": "code",
   "execution_count": 2,
   "id": "815af6f8",
   "metadata": {},
   "outputs": [],
   "source": [
    "#asigno la ruta del archivo a una variable\n",
    "path_file = '../files/usu_individual_T324.txt'"
   ]
  },
  {
   "cell_type": "markdown",
   "id": "bdb233ee",
   "metadata": {},
   "source": [
    "Cuantos hombres y mujeres se muestran en el archivo del tercer trimestre de 2024?"
   ]
  },
  {
   "cell_type": "code",
   "execution_count": 3,
   "id": "28493cc7",
   "metadata": {},
   "outputs": [
    {
     "name": "stdout",
     "output_type": "stream",
     "text": [
      "Total de mujeres: 15248344, Total de varones 14471801\n"
     ]
    }
   ],
   "source": [
    "from funciones import cantMujHom\n",
    "\n",
    "# defino el indice de CHO4\n",
    "CH04_INDEX = 11 # 1 = varon, 2 = mujer\n",
    "\n",
    "# abro el archivo en modo lectura\n",
    "# y lo guardo en una variable\n",
    "# el modo 'r' es para leer el archivo\n",
    "# podria pasar directamente el string con la ruta completa, pero no es practico\n",
    "# y si cambio de carpeta no funcionaria\n",
    "with open(path_file, encoding='utf-8') as archivo_csv:\n",
    "    # le digo a la funcion csv que se encargue del archivo\n",
    "    # para trabajarlo de manera mas amena\n",
    "    # por defecto los csv se separan por coma, pero como el archivo a trabajar se separa por punto y coma, debemos aclararselo\n",
    "    reader = csv.reader(archivo_csv, delimiter=';')\n",
    "    contador_f,contador_m = cantMujHom(reader, CH04_INDEX, PONDERA_INDEX)\n",
    "\n",
    "    print(f'Total de mujeres: {contador_f}, Total de varones {contador_m}' )"
   ]
  },
  {
   "cell_type": "markdown",
   "id": "16c64c08",
   "metadata": {},
   "source": [
    "¿Cuantos mayores de edad completaron sus estudios secundarios?"
   ]
  },
  {
   "cell_type": "code",
   "execution_count": 4,
   "id": "9aae1036",
   "metadata": {},
   "outputs": [
    {
     "ename": "TypeError",
     "evalue": "unsupported operand type(s) for +=: 'int' and 'str'",
     "output_type": "error",
     "traceback": [
      "\u001b[31m---------------------------------------------------------------------------\u001b[39m",
      "\u001b[31mTypeError\u001b[39m                                 Traceback (most recent call last)",
      "\u001b[36mCell\u001b[39m\u001b[36m \u001b[39m\u001b[32mIn[4]\u001b[39m\u001b[32m, line 10\u001b[39m\n\u001b[32m      6\u001b[39m \u001b[38;5;28;01mwith\u001b[39;00m \u001b[38;5;28mopen\u001b[39m(path_file,encoding=\u001b[33m'\u001b[39m\u001b[33mutf-8\u001b[39m\u001b[33m'\u001b[39m) \u001b[38;5;28;01mas\u001b[39;00m archivo_csv:\n\u001b[32m      8\u001b[39m     reader = csv.reader(archivo_csv, delimiter=\u001b[33m'\u001b[39m\u001b[33m;\u001b[39m\u001b[33m'\u001b[39m) \n\u001b[32m---> \u001b[39m\u001b[32m10\u001b[39m     cantSecCom = \u001b[43mtermSec\u001b[49m\u001b[43m(\u001b[49m\u001b[43mreader\u001b[49m\u001b[43m,\u001b[49m\u001b[43mNIVEL_ED_INDEX\u001b[49m\u001b[43m,\u001b[49m\u001b[43mCH06_INDEX\u001b[49m\u001b[43m,\u001b[49m\u001b[43mPONDERA_INDEX\u001b[49m\u001b[43m)\u001b[49m\n\u001b[32m     12\u001b[39m \u001b[38;5;28mprint\u001b[39m(\u001b[33mf\u001b[39m\u001b[33m'\u001b[39m\u001b[33mLa cantidad de mayores de edad que termino el secundario en el tercer trimestre de 2024 es de: \u001b[39m\u001b[38;5;132;01m{\u001b[39;00mcantSecCom\u001b[38;5;132;01m}\u001b[39;00m\u001b[33m'\u001b[39m)\n",
      "\u001b[36mFile \u001b[39m\u001b[32mc:\\Users\\PC\\Desktop\\Trabajo Integrador Prueba\\src\\funciones.py:39\u001b[39m, in \u001b[36mtermSec\u001b[39m\u001b[34m(reader, NIVEL_ED_INDEX, CH06_INDEX, PONDERA_INDEX)\u001b[39m\n\u001b[32m     37\u001b[39m \u001b[38;5;28;01mfor\u001b[39;00m line \u001b[38;5;129;01min\u001b[39;00m reader:\n\u001b[32m     38\u001b[39m     \u001b[38;5;28;01mif\u001b[39;00m cumple(line,NIVEL_ED_INDEX,CH06_INDEX):\n\u001b[32m---> \u001b[39m\u001b[32m39\u001b[39m         \u001b[43mcantSecCom\u001b[49m\u001b[43m \u001b[49m\u001b[43m+\u001b[49m\u001b[43m=\u001b[49m\u001b[43m \u001b[49m\u001b[43mline\u001b[49m\u001b[43m[\u001b[49m\u001b[43mPONDERA_INDEX\u001b[49m\u001b[43m]\u001b[49m\n\u001b[32m     40\u001b[39m \u001b[38;5;28;01mreturn\u001b[39;00m(cantSecCom)\n",
      "\u001b[31mTypeError\u001b[39m: unsupported operand type(s) for +=: 'int' and 'str'"
     ]
    }
   ],
   "source": [
    "from funciones import termSec \n",
    "\n",
    "NIVEL_ED_INDEX = 26\n",
    "CH06_INDEX = 13\n",
    "\n",
    "with open(path_file,encoding='utf-8') as archivo_csv:\n",
    "\n",
    "    reader = csv.reader(archivo_csv, delimiter=';') \n",
    "\n",
    "    cantSecCom = termSec(reader,NIVEL_ED_INDEX,CH06_INDEX,PONDERA_INDEX)\n",
    "\n",
    "print(f'La cantidad de mayores de edad que termino el secundario en el tercer trimestre de 2024 es de: {cantSecCom}')\n"
   ]
  }
 ],
 "metadata": {
  "kernelspec": {
   "display_name": "Python 3",
   "language": "python",
   "name": "python3"
  },
  "language_info": {
   "codemirror_mode": {
    "name": "ipython",
    "version": 3
   },
   "file_extension": ".py",
   "mimetype": "text/x-python",
   "name": "python",
   "nbconvert_exporter": "python",
   "pygments_lexer": "ipython3",
   "version": "3.12.9"
  }
 },
 "nbformat": 4,
 "nbformat_minor": 5
}
