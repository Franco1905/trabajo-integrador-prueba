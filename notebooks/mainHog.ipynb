{
 "cells": [
  {
   "cell_type": "markdown",
   "id": "26385f1e",
   "metadata": {},
   "source": [
    "Procesa los hogares"
   ]
  },
  {
   "cell_type": "code",
   "execution_count": 1,
   "id": "4f8b3f2b",
   "metadata": {},
   "outputs": [],
   "source": [
    "import sys\n",
    "import os\n",
    "import csv\n",
    "sys.path.append(os.path.abspath(\"../files\")) \n",
    "sys.path.append(os.path.abspath(\"../src\"))\n",
    "path_file = '../files/usu_hogar_T324.txt'\n",
    "PONDERA_INDEX = 8"
   ]
  },
  {
   "cell_type": "code",
   "execution_count": 2,
   "id": "5d08f1cf",
   "metadata": {},
   "outputs": [
    {
     "name": "stdout",
     "output_type": "stream",
     "text": [
      "El porcentaje de hogares que son ocupadas por el propietario tanto de la vivienda como del terreno, es de 60.00 %\n"
     ]
    }
   ],
   "source": [
    "from funcionesHog import cantPromCom\n",
    "II7_INDEX = 37\n",
    "with open(path_file,encoding='utf-8') as archivo_csv:\n",
    "    reader =  csv.reader(archivo_csv, delimiter=';')\n",
    "    promedio = cantPromCom(reader,PONDERA_INDEX,II7_INDEX)  \n",
    "print(f'El porcentaje de hogares que son ocupadas por el propietario tanto de la vivienda como del terreno, es de {promedio:.2f} %')\n"
   ]
  },
  {
   "cell_type": "markdown",
   "id": "900cd5b5",
   "metadata": {},
   "source": [
    "Informen el aglomerado con mayor y menor cantidad de viviendas con más de 2\n",
    "ocupantes que no posean baño.\n",
    "\n",
    "condicion: mas de 2 ocupantes, NO tener baño\n",
    "calcular el aglomerado que tenga mas casas con ESA condicion, y a su vez, el aglomerado que tenga MENOS casas con esa condicion"
   ]
  },
  {
   "cell_type": "code",
   "execution_count": 3,
   "id": "088343a1",
   "metadata": {},
   "outputs": [
    {
     "name": "stdout",
     "output_type": "stream",
     "text": [
      "IV8_INDEX : 19 | IX_TOT_INDEX : 64 | AGLOMERADO_INDEX : 7 \n",
      "{'3': 0, '12': 0, '8': 0, '32': 0, '30': 0, '33': 0, '18': 0, '26': 0, '19': 0, '25': 0, '10': 0, '4': 0, '31': 0, '29': 0, '38': 0, '22': 0, '7': 0, '23': 0, '17': 0, '93': 0, '13': 0, '5': 0, '27': 0, '2': 0, '36': 0, '20': 0, '91': 0, '34': 0, '15': 0, '14': 0, '9': 0, '6': 0}\n",
      "El aglomerado con la minima cantidad de casas que cumplen con la condicion es el numero: 3, y el maximo es 3\n"
     ]
    }
   ],
   "source": [
    "\n",
    "#print(os.path.abspath(\"../src/funcionesHog.py\"))\n",
    "\n",
    "from funcionesHog import buscarIndex\n",
    "from funcionesHog import calcularCas\n",
    "\n",
    "with open (path_file,encoding='utf-8') as archivo_csv:\n",
    "    reader = csv.reader(archivo_csv,delimiter=';')\n",
    "    encabezado = next(reader)\n",
    "    IV8_INDEX = buscarIndex(encabezado,'IV8')\n",
    "    IX_TOT_INDEX = buscarIndex(encabezado,'IX_TOT')\n",
    "    AGLOMERADO_INDEX = buscarIndex(encabezado,'AGLOMERADO')\n",
    "    print(f'IV8_INDEX : {IV8_INDEX} | IX_TOT_INDEX : {IX_TOT_INDEX} | AGLOMERADO_INDEX : {AGLOMERADO_INDEX} ')\n",
    "    max,min = calcularCas(reader,IV8_INDEX,IX_TOT_INDEX,PONDERA_INDEX,AGLOMERADO_INDEX)\n",
    "print(f'El aglomerado con la minima cantidad de casas que cumplen con la condicion es el numero: {min}, y el maximo es {max}')    "
   ]
  }
 ],
 "metadata": {
  "kernelspec": {
   "display_name": "Python 3",
   "language": "python",
   "name": "python3"
  },
  "language_info": {
   "codemirror_mode": {
    "name": "ipython",
    "version": 3
   },
   "file_extension": ".py",
   "mimetype": "text/x-python",
   "name": "python",
   "nbconvert_exporter": "python",
   "pygments_lexer": "ipython3",
   "version": "3.12.9"
  }
 },
 "nbformat": 4,
 "nbformat_minor": 5
}
